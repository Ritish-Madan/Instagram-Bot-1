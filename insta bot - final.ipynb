{
 "cells": [
  {
   "cell_type": "markdown",
   "metadata": {},
   "source": [
    "### Some important points ###\n",
    "1. Please have a good internet connection sometime dusring search it gives interception error\n",
    "2. If you get any error when you have to perform an activity after searching a profile, return back to home and run that cell again\n",
    "Login inputs are given, please fill the details in inputs"
   ]
  },
  {
   "cell_type": "markdown",
   "metadata": {},
   "source": [
    "Libraries"
   ]
  },
  {
   "cell_type": "code",
   "execution_count": 1,
   "metadata": {},
   "outputs": [],
   "source": [
    "from selenium import webdriver\n",
    "import time\n",
    "from selenium.webdriver.support.ui import WebDriverWait\n",
    "from selenium.webdriver.support import expected_conditions as EC\n",
    "from selenium.webdriver.common.by import By\n",
    "from selenium.common.exceptions import TimeoutException\n",
    "from selenium.common.exceptions import NoSuchElementException"
   ]
  },
  {
   "cell_type": "markdown",
   "metadata": {},
   "source": [
    "Driver location"
   ]
  },
  {
   "cell_type": "code",
   "execution_count": 2,
   "metadata": {},
   "outputs": [],
   "source": [
    "driver = webdriver.Chrome(executable_path = \"D:\\chromedriver\")"
   ]
  },
  {
   "cell_type": "markdown",
   "metadata": {},
   "source": [
    "1.\tLogin to your Instagram Handle\n",
    "1.\tSubmit with sample username and password"
   ]
  },
  {
   "cell_type": "code",
   "execution_count": 3,
   "metadata": {},
   "outputs": [
    {
     "name": "stdout",
     "output_type": "stream",
     "text": [
      "Enter your username/phone-number/email: ritish.me\n",
      "Enter you Password: q1w2e3r4t5y6\n",
      "Hold on... We are logging in. Hope you find the session interative. :)\n",
      "Successfully Logged-In\n"
     ]
    }
   ],
   "source": [
    "driver.get(\"https://www.instagram.com\")\n",
    "wait = WebDriverWait(driver, 10)#Waiting for 10 seconds\n",
    "wait.until(EC.presence_of_element_located((By.NAME, \"username\")))#Wait for the imput box for username\n",
    "username = driver.find_element_by_name(\"username\") #finding the input field of username by name\n",
    "user = input(\"Enter your username/phone-number/email: \")\n",
    "username.send_keys(user) #Entering the username\n",
    "wait = WebDriverWait(driver, 10) #Waiting for 10 seconds\n",
    "wait.until(EC.presence_of_element_located((By.NAME, \"password\"))) #Wait for the imput box for password\n",
    "password = driver.find_element_by_name(\"password\") #finding the input field for password\n",
    "key = input(\"Enter you Password: \")\n",
    "password.send_keys(key) #Enter.ing the password\n",
    "print(\"Hold on... We are logging in. Hope you find the session interative. :)\")\n",
    "wait = WebDriverWait(driver, 10) #Waiting for 10 seconds\n",
    "wait.until(EC.element_to_be_clickable((By.XPATH, \"//button[contains(@class, 'L3NKy')]\")))#wait for the button to be clickable\n",
    "loginButton = driver.find_element_by_xpath(\"//button[contains(@class, 'L3NKy')]\") #finding the login button\n",
    "loginButton.click() #click the button to login\n",
    "#####Work On the alert if comes######\n",
    "try:\n",
    "    wait = WebDriverWait(driver, 10) #Waiting for 5 seconds\n",
    "    wait.until(EC.element_to_be_clickable((By.CLASS_NAME, \"eiCW-\")))#wait for the button to be clickable\n",
    "    error_message = driver.find_element_by_class_name(\"eiCW-\") #Class appear if password is incorrect\n",
    "    if(error_message.text == \"Sorry, your password was incorrect. Please double-check your password.\"):\n",
    "        print(\"Password you have entered is incorrect\") #Print this message if password is incorrect\n",
    "        errorCode = \"Password you have entered is incorrect\"\n",
    "except (TimeoutException):\n",
    "    print(\"Successfully Logged-In\") #When everything goes right\n",
    "    errorCode = \"Successfully Logged-In\"\n",
    "if(errorCode == \"Successfully Logged-In\"):\n",
    "    ###############Pop-up Handling##########\n",
    "    time.sleep(2)\n",
    "    try:\n",
    "        alertWindow = driver.find_element_by_xpath(\"//button[contains(@class, 'HoLwm')]\")\n",
    "        alertWindow.click()\n",
    "    except (NoSuchElementException):\n",
    "        pass"
   ]
  },
  {
   "cell_type": "markdown",
   "metadata": {},
   "source": [
    "2.\tType for “food” in search bar and print all the names of the Instagram Handles that are displayed in list after typing “food”\n",
    "1.\tNote : Make sure to avoid printing hashtags\n"
   ]
  },
  {
   "cell_type": "code",
   "execution_count": 4,
   "metadata": {},
   "outputs": [
    {
     "name": "stdout",
     "output_type": "stream",
     "text": [
      "Name of the account which appeared with keyword 'food' \n",
      "--------------------------------------------------\n",
      "foodtalkindia, dilsefoodie, yourfoodlab, food_lunatic, food.darzee, healthyfoodadvice, food, foodgod, buzzfeedfood, mumbaifoodie, wirallyfood, my_foodstory, foodfuly, fooddotcom, livingfoodz, foodism.xyz, foodelixirr, FOOD CAGE, Food Plaza Restaurant, Food Court YAME., worldfoodprogramme, gourmetmusafir, foodnetwork, food_trove, foodbloggerai, rajshrifood, foodhallindia, food_era_, foodmaniacindia, foodinsider, food52, eatsmarthealthyfood, food_obsessed_guys, foodlicious_made_simple, foodzaara, foodafouti, whaaatislife, delhifoodwalks, foodchoiceofmumbai, foodmapdehradun, foodandwine, meghnasfoodmagic, indiafoodnetwork, banarasi_food_blogger_, thehungrymumbaikar, fastfoodideas, elavegan, food_fanatic_jaipur, food_addict1001, fao, food_techies, \n",
      "--------------------------------------------------\n",
      "There are total of 52 Accounts with that keyword\n",
      "There are total of 4 hashtags with keyword 'food'\n",
      "--------------------------------------------------\n"
     ]
    }
   ],
   "source": [
    "############ Typing the keyword \"food\" into the search box ###########\n",
    "wait = WebDriverWait(driver, 10) #Waiting for 10 seconds\n",
    "wait.until(EC.presence_of_element_located((By.CLASS_NAME, \"TqC_a\"))) #Somethime search bar activates in some time \n",
    "\n",
    "searchInput = driver.find_element_by_class_name(\"TqC_a\") #Finding the input box\n",
    "searchInput.click() #There is some content is JS protected, so i have to click it\n",
    "typeField = driver.find_element_by_xpath(\"//input[contains(@class, 'XTCLo')]\") #I have to proceed to input box now\n",
    "typeField.send_keys(\"food\") # Entering the given keyword \"food\" in the input search box\n",
    "\n",
    "    ############## Extracting the account with that name ###################\n",
    "\n",
    "wait = WebDriverWait(driver, 30) #Waiting for 10 seconds\n",
    "wait.until(EC.presence_of_element_located((By.CLASS_NAME, \"Ap253\"))) #Precaution if something happens\n",
    "\n",
    "accName = driver.find_elements_by_class_name(\"Ap253\") #Finding the class which contains data\n",
    "print(\"Name of the account which appeared with keyword 'food' \")\n",
    "print(\"-\" *50)\n",
    "count = 1 #To count the number of accounts\n",
    "for i in accName:\n",
    "    if(\"#\" not in i.text): #To neglect the hastags\n",
    "        count += 1 #Increasing count everytime I print acc name\n",
    "        print(i.text, end = \", \") #Printing the account name\n",
    "print()\n",
    "print(\"-\" * 50)\n",
    "print(\"There are total of\", count, \"Accounts with that keyword\")\n",
    "print(\"There are total of\", len(accName) - count, \"hashtags with keyword 'food'\")\n",
    "print(\"-\" * 50)"
   ]
  },
  {
   "cell_type": "markdown",
   "metadata": {},
   "source": [
    "1.\tOpen the Instagram Handle of “So Delhi”\n",
    "2.\tStart following it. Print a message if you are already following\n",
    "3.\tAfter following, unfollow the instagram handle. Print a message if you have already unfollowed.\n"
   ]
  },
  {
   "cell_type": "code",
   "execution_count": 9,
   "metadata": {
    "scrolled": true
   },
   "outputs": [
    {
     "name": "stdout",
     "output_type": "stream",
     "text": [
      "Searching a profile sodelhi\n",
      "You have already followed the page.\n",
      "Unfollowed the page 'So Delhi'\n",
      "Extracting first 500 usernames of profile....\n",
      "First 500 followers of profile\n",
      "--------------------------------------------------\n",
      "ritish.me, kumar_ro_h_it, lovely_vicky1432, foodish_ml, muditaa.a, illusion_photography09, chirag_seghal09, santtosha, mr.poet2003, rajan015, i_am__heisenberg, ankita.kabir, helo.tripathi, sanjanapambi, kusu0_0, behlniharika, roshni.gariya, dev.z, hydrhydr9333, got_no_otherjob_, kdpv.tt, bedii_jas, kuldeep_cic, sanjeevanii_shiraskarr, mukul2530, anjaan___123, the_cosmic_stark, manaswimadicheffy, rudransh_chauhan, janvi_aroraa, innocent_.looker_, jyotihotel14, quotes_.off, saahilpanjwani, _natasha_sh1, fiver_food, bhanudhakyouw, rajat__1999, puriuppal, iamsumitdedha, arshad_dxb, areaderahead, radhika_arora1997, harshpreetkaurb, khurana__24, tanvi.aggarwal13, random.account.pvt, donttlookkforrmee, ciel_sombre_, _gtsss, grey_obscura, sandeep_parte_, foodislife1419, the_sudhakar, a.g.pvt, sumriddhimittal, saadifoodiekismat, rajvansh.rockx7, my_wordszz, arora__reet, queen.mishii, fuckkkmylife_, elysianascuas, aadi__saini, yashpratap_2303, zoi.naa, helpinghands_slc, lunch.box187, faithsamuel2, manjushagogna, shu.bhi1306, shadkhan498, khaniqra753, redddyyy_k, dhruv_pal21, aman_mogli, momoskitchenn, thestroller_, monika.vipin, mikhan981, nayangupta_photography, rush.n.crush, _navya_lal_, radha2705, monserrat_67231, hotel_shakun_palace, epickanpuriya, buyavocados, ___befikre___, spill_the_sassss, parthsingh000, shubham_999_, rahulnarang15, vrndrsngh19, pushpa.dangwal, priyanka_sehgal0408, sehbsss, ancia.joseph, countertop.by.anubha, bhavnasharma251, ra.hulsingh448, kritzzz.03, _rahuldalal_, anubhadube, raghavashu1, momsilam, jesta_de_acosta, i.m.a.doodler, nisha_jain069, srishti_jain23, brandedfakeer, vaibhav_dalal, harshit_rastogi1, aastha000, unboxwishlistbyroshni, rachnapvttt, shagun.pandeyy, divya_midha, jerrriiiinnnstagram, c_h_i_r_a_g_9, miles.n.mealz, khaane_se_mohabbat, _priyankajha_, wanderoushka, _urvashisinghal_, vershaagupta, blueskymelo, uditsethi1, gulpinggang, gauri4681, kumarrajneesh7532, adisphotographysg, fa_ix_u, angadsingh3011, quuuiinnzzaaaa, deeksha8164, dipanshukhanna, khansamir4200, manviichauhan, kaavya_thukrral, _sheena.bhatia_, meghamehra___, namra_.ansari, _hemangiii, vijayvijay4827, pratiksha_sharma02, ankitjoshiiii, dua.jatin.1, fadhilakaramath, 50so_flavours, nehaanand25, iamgarima_, _akash.81_, nupur.m25, roshan.singh66, _frame_memories_, tom_n_jerry_cookbook, mkunal05, prernaayo, puneetchoudhary23, jayant.alpha, soumits_kitchen, geetadhingra45, mehtasuman714, beautiful_world40, kashina_chadha, clixle, shreyaa03_, _sg__041995, meraki_dreamss, __iamabhinavarora, nahshon_williams, reet_8891, showbhet, akshatsharma10_, namratarai177, eladhwan, kabhiekabhiaditi, inmypocket2020, hey.vineet, riteshprajapat7, shufflestudio.gurgaon, sujitmandal923, dr.reematushamer, escapist.x_x, ridima_kamal, amanbhai_00, tanishqa_20, lakshyaa.pvt, livingaminimallife, hungry.men, its_jaan_777, aadi_.singhania, vikas231007, vmsevents, notashake, asmatinterior_indore, tanya_solanki_98, rahulgaba1, ryashasvi.a, geetajaiswal448, rohankshetry1, shifa2304, pratishtha1802, lust_.for_.life_, avinash0222, abhikabhi__, komalchouhan681, piiyushtiwari, shivank_parashar, shobhit240901, withlovefood_, atmosfares, vandanakaushal11, ms_jahanvi, puneetsawhneyy, wearekalakrit, canopycreature, irfansehti, nawab5907, walkwithsarthak, lifeisnowexpeditions, alisha3584, khichick__, _pixcellence_, devendrapanchal1988, __its__suali, nishu_2610, the_phoenixeye, iamparthavitaluja, shubh4real, littlewindowbigdreams, sophiagomes92, b.se.baklol, juneadchoudahr, aakashprateik, yin9989, quotes_book_world.in, _priyanka_dikonda_, kartik.nirman, pratiksh960, amandaudzai, shreyaverma.30, akshataparul04, chasseur_des_bois, aaishabella, dr.jyoti_sharmaa, gta_lakshya, hayer_parm_91, naam_hai_som, abhinav_abr, nvgxruibxdrin, rahulskitchen_og, anjali.official, riyaayy, prafful_99, ankita.ghadi.5494, prabhumehta_, banished.ecstasy, the.tanushmita.narang, sanam_sbw, lakshay_1080, aaman299, tanyadhingra_10_, yours_happily, _rishugoyal_, singhpanesargurpreet, bhumiyachawla13, gaba_parveen_, sainidevika, theperspicaciouscompanion, ritikgarg012, minzpreeti, aggrawal7134, talib.moin.7, rose_of_sharon.11, rishabhbatra_photography, malakarshreya, gautamrachna05, yashika.idk, abdulsamadmolli, parthh_malhotra, asmita_khanna, shootguru, tannyaa11, _.agrim, sublime_shot, maneesh_4, sahilgaba79, dixit.kumbhani, oishi2611, quotesandproverbs28, subaranas, vipulbhatt75, bubble1892, aartib28, madhuriiima, prernasachdevaaa, ditesh0100, thesavourygrub, afreenalii, harshitaasharmaa_, dubeyvivekkumardubey, telegraphytales, fazal__rehan, mindrunway, coder_who_cooks, shrutisaxena20, nivetha1572, randomaart, sakshibajaj99, scribbled_quotes.u, deliciousdestinations, harshsriv.08, hitali_panwar, amninder_vohra_, sajadnabimir, random_uploads16, lockdownmasterchef2020, drapmeonline, metanoiainframes, jaipurshoutout2019, bhardwwaj_nishant, 123_kash, tulasidaspai, __sagarwal__, bcmeme_2126, abhi.banga_, deepak0092, shivani__20.01, kanchanhatwal17213, sha__swat007, abhishek.gupta90, srishh__t_02, siddhantsagar, chill_n_chull, dev_en_dra, imrahulmaddheshiya, deepak_shar3a, in.harshalgupta, enteradesigne, hikeingwithme, simar_shooter, omyronshwal, shanayaoberio2, nehadahmad7, vexplorers.in, sava.lakh, ambalal.jain.obain, riya.sharma160, ruhi_sinhaa, jain_yakshi, gill_suraj1998, bar_sha_roy, gabber661, agirlondelhimetro, rahul.m24, nainamk, user_pages, khaana_rozana, soniya_krishna_, sunny_yadav_sunny, foodie_tune_indore, 0_1_palak, _attrihoney_, me.neha2k2, kaustavdey_23, devashi_aggarwal11, gaurav_7032, nervousplanetbubble, prernaverma48, devansh.sehgal, mohitpal7582, pisthieee, sajan.nigam.39, kunar8505, s4sumitd4dahiya, ashraf78630, klutzykiara, debolinadevnath, nehayadav.nk123, raj_shubham_, sparsh_153, sanjayrajput9718, _alvi_1998, iamadhil, sai_likhitha_gs, shabib_shaikh786, _shivamgrover, jyoti.mittal.5437, hmaheshwari6, shripal6158, aymanzuha, theeyefocus, muhammadyusuf2133, pavan_renge_patil, iamaasthakaushik, shree_k15, foodiejunction98, alwaysbruffon, davinkaur30, singhal9751, feed_the_needy980, ishita902, gurpreet_._.1, jyotiorator, quotes__.day, prateethi, shubhiiix_pvttt, pagal_kalakaarr, sharma45054505, piczones, sharma_bharti99, saurbh5554, kanishq_basoya_delhi0005, sabmohmayahai_23, kajal_777, shrestha_nanda, the.foodiee.vogue, rahulmeena1_2_3, talk_less_word, asous13asous, surbhiaroraaaa, kishan_thakre, voyagedairy, anjalisainii, dev_adhikary19, vandana.s66, saadzaidii, varshney_vrinda, _rai_archana, dhananjaydubey_132, trisha.verma12, akhilvijan, ninaniyaritik, high_flame_, the_urbanyogi, amaan_khan07, khush.2922, archieambastha, nidhim737, mohitagarwal6160, anaskalii, deeks.gulati, sidmehta__, latikasha2393, omaymn25amil, ayushi.grg, mjadvani, s_o_n_i_a_2_8, abhiarkal, ali_boy_01, bu.nty949, theconfessionzoneofficial, shorrya_v_bansal, dr.ayushi_jain, vishal5889sharma, kanchansisodia, orangespaces, rajnik2094, _anshika26, abdullah19_26, am.isha1105, blc177, ashokkumargupta9370, paulami_96, neerajfurniture, nandinix2, charandeep.kaur_, fernculinary, sahilkain, hi_ambivert_this_side, jaineraddu, pre_rrrna__, abhishkgoel, sunita.aggarwal.75, i_mehakchugh, aanchalgupta23, rahulwhotravels, _ac_words, sameer.rawat04, mom_to_munchkins, kanika01sharma, pra28teek, doel842, mohankanika, hz_life_quote, fit_samra, riyaroykumar, divyanshu.95, saanaasiddiqui, ayysshhaa._, priyanka.2845, latika_saurot, kajal_mahich, mjay3.0, ritunerraj, iamrohanverma, im_affan91, epic_humorous_stuff, \n",
      "--------------------------------------------------\n",
      "Exracted 500 followers from page\n"
     ]
    }
   ],
   "source": [
    "def visit(name): #function to visit any profile on instagram\n",
    "    typeField = driver.find_element_by_xpath(\"//input[contains(@class, 'XTCLo')]\") #Finding the input search field\n",
    "    typeField.clear() #Clearing the input field if already typed\n",
    "    print(\"Searching a profile\", name)\n",
    "    typeField.send_keys(name) #Entering the profile name\n",
    "    time.sleep(4) #Waiting for results to load\n",
    "    codingNinjas = accName = driver.find_element_by_class_name(\"Ap253\") #Found the dilsefoodie Page\n",
    "    codingNinjas.click()\n",
    "    time.sleep(3)\n",
    "    return\n",
    "visit(\"sodelhi\")\n",
    "    \n",
    "    ################## Following the page ###############\n",
    "    \n",
    "wait = WebDriverWait(driver, 10) #Waiting for 10 seconds\n",
    "wait.until(EC.presence_of_element_located((By.XPATH, \"//button[contains(@class, '_6VtSN')]\"))) \n",
    "followButton = driver.find_element_by_xpath(\"//button[contains(@class, '_6VtSN')]\")#Finding the follow/unfollow button\n",
    "followButton.click() #clicking it\n",
    "try:\n",
    "    # If page is already followed the pop-up appers handling that\n",
    "    wait = WebDriverWait(driver, 3) #Waiting for 10 seconds\n",
    "    wait.until(EC.presence_of_element_located((By.XPATH, \"//button[contains(@class, '-Cab_')]\")))  \n",
    "    unfollowButton = driver.find_element_by_xpath(\"//button[contains(@class, '-Cab_')]\") #unfollow button\n",
    "    unfollowButton.click() #clicking the unfollow button\n",
    "    print(\"You have already followed the page.\")\n",
    "    print(\"Unfollowed the page 'So Delhi'\")\n",
    "except (TimeoutException):\n",
    "    #If the page was not already folllowed\n",
    "    print(\"Followed the page 'So Delhi' sucessfully\")\n",
    "###### Extracting first 500 followers #########\n",
    "def followers(quantity): #Function to extract the followers of a profile\n",
    "    print(\"Extracting first\", quantity, \"usernames of profile....\")\n",
    "    time.sleep(2)\n",
    "    followersButton = driver.find_elements_by_class_name(\"-nal3\")\n",
    "    if(len(followersButton)!= 0):\n",
    "        followersButton[1].click()\n",
    "        \n",
    "    else:\n",
    "        time.sleep(2)\n",
    "        followersButton = driver.find_elements_by_class_name(\"LH36I\")\n",
    "        followersButton[1].click()\n",
    "        \n",
    "    waitNext = WebDriverWait(driver, 30)\n",
    "    waitNext.until(EC.presence_of_element_located((By.XPATH, \"//a[contains(@class, 'FPmhX')]\")))\n",
    "    followerName = driver.find_elements_by_xpath(\"//a[contains(@class, 'FPmhX')]\")\n",
    "    if(len(followerName) < quantity): \n",
    "        while(True):\n",
    "            waitNext = WebDriverWait(driver, 30)\n",
    "            waitNext.until(EC.presence_of_element_located((By.XPATH, \"//div[contains(@class, 'isgrP')]\")))\n",
    "            followers_popup = driver.find_element_by_xpath(\"//div[contains(@class, 'isgrP')]\")\n",
    "            driver.execute_script(\"arguments[0].scrollTop = arguments[0].scrollHeight\", followers_popup)\n",
    "            time.sleep(1)\n",
    "            followerName = driver.find_elements_by_xpath(\"//a[contains(@class, 'FPmhX')]\")\n",
    "            if(len(followerName) >= quantity): \n",
    "                break\n",
    "    print(\"First\", quantity,\"followers of profile\")\n",
    "    print(\"-\" * 50)\n",
    "    for i in range(quantity):\n",
    "        print(followerName[i].text, end = \", \")\n",
    "    print()\n",
    "    print(\"-\" * 50)\n",
    "    closeButton = driver.find_elements_by_class_name(\"wpO6b\")\n",
    "    closeButton[1].click()\n",
    "    print(\"Exracted\", quantity, \"followers from page\")\n",
    "    return\n",
    "followersExtraction = followers(500) ###**Self Note*** Make it 500 to extract #####\n",
    "followersExtraction\n"
   ]
  },
  {
   "cell_type": "markdown",
   "metadata": {},
   "source": [
    "1.\tLiking the top 30 posts of the ‘dilsefoodie'. Print message if you have already liked it.\n",
    "2.\tUnliking the top 30 posts of the ‘dilsefoodie’. Print message if you have already unliked it.\n"
   ]
  },
  {
   "cell_type": "code",
   "execution_count": 10,
   "metadata": {},
   "outputs": [
    {
     "name": "stdout",
     "output_type": "stream",
     "text": [
      "Searching a profile dilsefoodie\n",
      "Hold on...Images are being liked. We will notify you when done!\n",
      "Liked total of 30 images of profile'dilsefoodie'\n",
      "Unliked total of 30 images of profile'dilsefoodie'\n"
     ]
    }
   ],
   "source": [
    "###### Visiting 'Dil Se Foodie' page #########\n",
    "accountSecond = visit(\"dilsefoodie\")\n",
    "    \n",
    "    ###############################################\n",
    "    \n",
    "    ##########liking the images #################\n",
    "    \n",
    "print(\"Hold on...Images are being liked. We will notify you when done!\")\n",
    "wait = WebDriverWait(driver, 30) #Waiting for 10 seconds\n",
    "wait.until(EC.presence_of_element_located((By.CLASS_NAME, \"_9AhH0\")))\n",
    "imageLikes = driver.find_element_by_class_name(\"_9AhH0\")\n",
    "imageLikes.click()\n",
    "time.sleep(2)\n",
    "count = 1\n",
    "for i in range(29): ######## **self Note** Make it 29 to like 30 images #####\n",
    "    count += 1\n",
    "    wait = WebDriverWait(driver, 30) #Waiting for 30 seconds\n",
    "    wait.until(EC.presence_of_element_located((By.CLASS_NAME, \"_97aPb \")))\n",
    "    wait = WebDriverWait(driver, 30) #Waiting for 30 seconds\n",
    "    wait.until(EC.presence_of_element_located((By.CLASS_NAME, \"wpO6b \"))) #Precaution if something happens\n",
    "    likeButton = driver.find_elements_by_class_name(\"wpO6b \") #like button\n",
    "    likeButton[1].click() #like button click\n",
    "    waitNext = WebDriverWait(driver, 30)\n",
    "    waitNext.until(EC.element_to_be_clickable((By.XPATH, \"//a[contains(@class, '_65Bje')]\"))) #Precaution if something happens\n",
    "    nextButton = driver.find_element_by_xpath(\"//a[contains(@class, '_65Bje')]\") #next button for next image preview\n",
    "    nextButton.click() #clicking next button\n",
    "print(\"Liked total of\", count, \"images of profile'dilsefoodie'\")\n",
    "    \n",
    "    ########## unliking the images ################\n",
    "count = 1\n",
    "for i in range(29): ######## **self note** Make it 29 to unlike 30 images ######\n",
    "    count += 1\n",
    "    wait = WebDriverWait(driver, 30) #Waiting for 30 seconds\n",
    "    wait.until(EC.presence_of_element_located((By.CLASS_NAME, \"_97aPb \")))\n",
    "    wait = WebDriverWait(driver, 30) #Waiting for 30 seconds\n",
    "    wait.until(EC.presence_of_element_located((By.CLASS_NAME, \"wpO6b \"))) #Precaution if something happens\n",
    "    likeButton = driver.find_elements_by_class_name(\"wpO6b \") #like button\n",
    "    likeButton[1].click() #like button click\n",
    "    waitNext = WebDriverWait(driver, 30)\n",
    "    waitNext.until(EC.element_to_be_clickable((By.XPATH, \"//a[contains(@class, '_65Bje')]\"))) #Precaution if something happens\n",
    "    backButton = driver.find_element_by_xpath(\"//a[contains(@class, 'ITLxV')]\")\n",
    "    backButton.click()\n",
    "print(\"Unliked total of\", count, \"images of profile'dilsefoodie'\")\n",
    "ImageClose = driver.find_elements_by_class_name(\"wpO6b\")\n",
    "ImageClose[-1].click()"
   ]
  },
  {
   "cell_type": "markdown",
   "metadata": {},
   "source": [
    "1.\tExtract the usernames of the first 500 followers of ‘foodtalkindia’ and ‘sodelhi’.\n",
    "\n",
    "### I have printed followers of So Delhi already above ####"
   ]
  },
  {
   "cell_type": "code",
   "execution_count": 11,
   "metadata": {},
   "outputs": [
    {
     "name": "stdout",
     "output_type": "stream",
     "text": [
      "Searching a profile foodtalkindia\n",
      "Extracting first 500 usernames of profile....\n",
      "First 500 followers of profile\n",
      "--------------------------------------------------\n",
      "king_memoriess, mr_kp__13, ___panks___, bhuyan357, certi_fied_kamineee, untold_perception, lunch.box187, chefanjalikapoor, _.sr.ajan, the_cheers_and_bite, punit_vaishnav111111, _.foodie.goodie._, _shivagni_singh, hungryhitchhiker, nitin836kumar, shaikhmuazyasin, sunil_mundad_, somya_9905, one_n_only_lui, itsyashgujjar_03, mytimelessdiaries, reenawalia1411, shagunaroraaa, archana.aswath, sanchsabharwal, ltcmmdrjb2019, badriya_almm, mr_raza07dz, sangam63750kumar_, yigi_foodstory, v_live_to_eat, chefthomsonemmanuellp, nehalathia8249, vimaljayan, maria.gamer89, nutrition.mythbuster, srb2428, vinitakr64, cravingsofahusband, indianfoodlabs, kumartejashvi, i.me.marsh, foodislife1419, srivastavshobhit, mohdmonish6825, urvashi.bhardwaj.184, _adn_sv_, tulibanerjee, umasaraf_bittu, aswini_aswin, abhishekabhishek2232, amu1907, bunny.gaurav, mikhan981, apoorvaashil, shikhar_25, monadesai28, foodintheblog, shallu_bansal_23, shrutie_27, shailja.kumari.1213, butterchicken_girl, _flavours_of_life, tawabaaz, yushhter, _darshak_k._, kumarrajneesh7532, uttamtaste, gulpnslurp, chahatbagai, akshay_51, lubnaa.kulsoom, pappupenguin, doughsomebakes, chinusculinarytales, anthemindia, abhijaysj, tom_n_jerry_cookbook, soumits_kitchen, anjali.official, yumyumtummyfull, riteshprajapat7, peddapalempradeep, juhiarora29, sikandarsingh701, aasaraeventscateringservices, grover.upasna, preethi_palanichamy, asmatinterior_indore, bhaya_2791, binod9326, krishno0714, __aishhh____, memer__zzaade, chokri_gujarati, kritanshu__, infinite_flavors, tvishi_sharma, culinarytourism_2018, ankitasingal, yellapragadapravallika, falguni.agrawal, __v_key___xx_, sierra_bravo_0.0.23, tomdesignart, mamta_achaarya_98, all.dayy.everydayy, best_rk_motivation, mahe.ndra67, yamini1804, _craving_hut_, clickalmost, ivc_eventplanner, richa_verma__, food__maker__, hostel_eats, anuragadani, sharonrebecca1608, mumbaifooddealers, chokriti01, gutlifesuperfoods, malhotra.aisha07, __tik_tok_k__, vineet_wadhwa_66, __itika_gupta, eshaoberoi, ranveerfrombollywood, kansinghparmar, sshaziyashanu, babluthakur676, offical_jaggi_jaat, nivetha1572, pragya_0701, _nehalkanwar, __sr.07, vimlakamat, vishalrajak, the_indian_bite, foodsafir, video_250183, 9t6_dot, margochanning1221, kanchanhatwal17213, ankita.mayank, sharmaseema89, eleonora_reggiani, savitusingh, slim_shady_official_stepahead_, asiya.amreen, anishsharma_27, vivekyadavanshi8, _cathartic7_, marathikitchenkatta, clutchstore01, vanshkapoor17, rajpal.tanvi, he.art__break.er, preeti_lulla, rajsriharsh, annie_cooks1990, arunima11mishra, nehasaifi909, souravpandey243, user_pages, khaana_rozana, kumars_shiv, poupourri_treason, siddhantmandaliya, sothumootaimemes, rohit_kumar_606, meenakshiamin, dhirvikas, craversbooty, zareenclive, as.ha54024, mykitcheneattreats, __lil_flame___, aromatic_menu, sosoabbas92, rahul_sahu78, __queen._teen, rashjain_1, rhythmanyaa, _tul_dalavi_, travelandbelly, shanu12febail3, gurpreet_._.1, the.foodiee.vogue, sweet_monujain, saipooja553, bindu.sondhi, sherrybuddy90, reeta.jaiswal.1654, the_world_unfiltered, divya_sharma2291, foodieehumein, meghadugar, p_4prince_4_u, ambars_kitchen, happy_014, theflavourofhome_, anuradhakulandai, kangscookingcorner, shramonatapader, _imainak_roy_, sumeet__meshram, greenyroyales, gree.world, vip_vipulpatel, iamatif4303, devansh0609, balalalalab, ptgavali, darshit_1996, aanchal_pooksydoo, theediblebombs, div_arna, artbydivya_17_dec, thecakestoriesbynitikagera, fernculinary, cheffy1971, vedavathibj, diwisflavour, adityasjena, indiankeychain, for_the_love_of_food7, sul_food_frenzy, jay.shah.1710, somashekar138, verifiedfann, the_pink_habu, thefcravings, prasad_jagtap_01, _mr.foodist_, earn_moneyineasyway, kashmirigirlshine, khanekakhajana, ayan_bose01, __.foodbabe.__, healthoneup, srijeeta_g, _.little_boy0872, lak.shin.1, skbhaiking, sushree_sushmeta, tijorrii_food_fashion_decor, p_i_x_e_y, tosha.sss, kowik_19, peterpar21, drayswaryaajay, avi._.singh, himadri6210, nfhulul, ushakiran52, doctor_chef__, mr_rohitgokhe_, deepa.pritmani, pooja7981, 1927___fatima, atitudeshyrofficial, de_fudoz, eating_for_fun, thefoodi1, hunger_tale, rucksackandbackpacks, aggarwal.akansh, planet_of_photography_, jainvandita, delhikepakwan, funkyfoodie09, sangeethdef, streetfoodclubin, vidyaman123, suvai_arangamm, nk_photography_indore, chetan__dm, artofaromaindia, tastebuddy_2019, sushilkurri, riyachoco, aadil_khan_560, kamalkarmalama, pratik_chotai, chef_rakesh.puri, iampopayethesoilorman, sssarna123, indie.moodie.foodie, louisesasan, priya__jainn, raisaalamrasha, pujabansal73, ankz44, kaafi_zyada, thegignetworks, pans_and_hands, renukumar11, akilenarasun, aman_kochar.ak, muskanyadav88, _pawar_04, mumnfood, official_vishaldhankhar_, sonalsinghrawat, homecookfoodonly, _champion137, me_sci, heart_melter_kb, a_chopping_board, weddingbells.irockent, bcihmct.media, mr.good_to_be_bad, bawarchiwali, harsh_vardhan4484, gunnisonline, amex_visa_master, home.made.recipes, diya_rajpal, sunkissed.dandelions, namratha.puranik, 1676_rahul, halfbottlesoda, shalinikakrania, olkrw, vismayachintana, sassinmyspoon, anvitha.s.a, branded__kamina008, dukekausik, the_space_engineers_triad, deepakbhargavabhargava, apnidukan03, _alishba_2501, khatrisameersk, chhatri_lifestyle, tweaky_cooking, ss_.shreya, _xtylesh_bugg_, perkasa336, utkarshgarg_films, the_daily_pursuits, sunnypapaiya, thedreampalate, i.m_rajat007, travelo_tania, soul__and__food, call_me_kirathaka__, cooking.escapades, jhoncena542, anybuddy_can_cook, lapeep, hema.madhesh, m.r_satya, delhi_lifies, naturalperfumeshop, iamaepicure, dish_on_that_table, yaminimakkar, babaindependent, _an__wesha_, foodphotopedia, chef_sagarjapra, tavishinarang, hk1795, kuk8093, loveolemon, niilanjan__m, xyzx.yx, satiation_point, __king__of__attitude, qasim_nawal, morozov_dobri, sucre_sale_bybochra, soyalexander_flores, iam_harsh.bhatia, yashikaarora09, newtralbrand, souravbaidya21, somasdietstudioofficial, gitub1311, usaclick, jespa2001, alankritaspam, binishlodi, pet_puja_travels, placebodeplacebo, shubh.bhandari, nutanpal14, mranalika_malghani, ankyphotography07, moulika_enuganti, shivangi4707, kaueny.almeida, mindittherapy, sabiamahajan, manroopsahni, simpy.malhotra, meenal.dhingra, saint_krafts, arjit_g, raj56_5patel, ranpreet.kaur006, shrinkhla94, official_immu.14, anika.agg, a.k.s.h.a.r.a_g.u.p.t.a_, mohd_anzar_0786, 999_ravisharma_999, chotaelaichi, madhuri.bothra, madhusmile11, sara_bahamed_30, sunnysharma0202, cvbrgava, mr_hacker510, swatiroy1206, the.food.ticklers, davirmirza, vegwashindia, bronakk, joshuanasuya, payalnangalia, nithin_deshai, life_of_sangeetha, nssharma77, annapurna_soul, arpan.gupta_, syedsaleem384, iba127, foodsa1420, ritzsunil, uvs_food, theyummyeatables, aboutsaurabh, original_avneetkaur_fc, zinat3235, bisibisi.ruchiruchi, juraij.mohd, tripoorsciences, dipti.mahajan, anand.patell, aum10061989, _muhammed_shaheen_07, foodalltimemood, chennaifoodict, foodie_boyrk, singh_king023, madhu_reddy_9, alijabbaragha, aishwarya_s_rao, a.curious.alice, mitaliv30, letstalkaboutfoodbaby_, stir.fried_stories, flavors_of_vulli, shrivalimarda, saidarami13, rajesh_nbk, vaibhav130819, mashantha, payalshah2612, howtocookwithrvisha, sakshi_1394, foodsnjoy, rajshri.jaiswal, pinks.secret, supreetv2017, arunlee_1985, taranbir.s.sahni, _kamera.man, desi.flavours, yashikajoshi07, darkskinwhovian, mail2meenasuri, cookingminute, piquant_picks, iphonographyy, food91.in, overthinkseverything, preetidawar2, sherghati_news, momandsonskitchen20, travel_food_trip, jyotifoodstuff, chubby_girl267, shravi_the_foodie, lathasrinvas, raadeite, divyesh.patil1, pritsfood, ck_ingenious, nritya_madhu, streetfoodloveindia, king_of_zala_sarkar, the_assamese_food, abhi044, yummy.food_dairies, karishma2007, thedreamdecorstore, masalon_ke_khel, \n",
      "--------------------------------------------------\n",
      "Exracted 500 followers from page\n"
     ]
    }
   ],
   "source": [
    "#### Visiting profile ###\n",
    "accountThird = visit(\"foodtalkindia\")\n",
    "    \n",
    "##### Extracting Followers ######\n",
    "foodTalkIndiaFollowers = followers(500) ###**Self Note*** Make it 500 to extract #####\n",
    "foodTalkIndiaFollowers"
   ]
  },
  {
   "cell_type": "markdown",
   "metadata": {},
   "source": [
    "2.\tNow print all the followers of “foodtalkindia” that you are following but those who don’t follow you."
   ]
  },
  {
   "cell_type": "code",
   "execution_count": 12,
   "metadata": {},
   "outputs": [
    {
     "name": "stdout",
     "output_type": "stream",
     "text": [
      "halfbottlesoda\n",
      "branded__kamina008\n",
      "olkrw\n",
      "apnidukan03\n",
      "sassinmyspoon\n"
     ]
    }
   ],
   "source": [
    "### Mutual Followers but not following me ####\n",
    "waitNext = WebDriverWait(driver, 30) \n",
    "waitNext.until(EC.element_to_be_clickable((By.CLASS_NAME,\"tc8A9\")))\n",
    "mutual = driver.find_element_by_class_name(\"tc8A9\") #Clicking mutual follower link\n",
    "mutual.click() #located and clicked\n",
    "waitNext = WebDriverWait(driver, 30)\n",
    "waitNext.until(EC.element_to_be_clickable((By.XPATH, \"//a[contains(@class, 'yWX7d')]\")))\n",
    "moreMutual = driver.find_element_by_xpath(\"//a[contains(@class, 'yWX7d')]\") #loaded more mutual followers\n",
    "moreMutual.click() #located and clicked\n",
    "waitNext = WebDriverWait(driver, 30)\n",
    "waitNext.until(EC.presence_of_element_located((By.XPATH, \"//button[contains(@class, '_8A5w5')]\")))\n",
    "followers = [] #making a list of followers whom I follow\n",
    "while True:\n",
    "    following = driver.find_elements_by_xpath(\"//button[contains(@class, '_8A5w5')]\") \n",
    "    follow = driver.find_elements_by_xpath(\"//button[contains(@class, 'sqdOP')]\")\n",
    "    if(len(following) < len(follow)):\n",
    "        names = driver.find_elements_by_xpath(\"//a[contains(@class, 'FPmhX')]\")\n",
    "        for i in range(len(following)):\n",
    "            followers.append(names[i].text)\n",
    "        closeButton = driver.find_elements_by_class_name(\"wpO6b\")\n",
    "        closeButton[1].click()\n",
    "        break\n",
    "        \n",
    "    else:\n",
    "        followers_popup = driver.find_element_by_xpath(\"//div[contains(@class, 'isgrP')]\")\n",
    "        driver.execute_script(\"arguments[0].scrollTop = arguments[0].scrollHeight\", followers_popup)\n",
    "#### GOing to my profile #######\n",
    "time.sleep(2)\n",
    "home = driver.find_elements_by_class_name(\"_6q-tv\")\n",
    "home[1].click()\n",
    "time.sleep(5)\n",
    "followersButton = driver.find_elements_by_class_name(\"-nal3\")\n",
    "if(len(followersButton)!= 0):\n",
    "    followersButton[1].click()\n",
    "    time.sleep(3)\n",
    "else:\n",
    "    followersButton = driver.find_elements_by_class_name(\"LH36I\")\n",
    "    followersButton[1].click()\n",
    "    time.sleep(3)\n",
    "followers_popup = driver.find_element_by_xpath(\"//div[contains(@class, 'isgrP')]\")\n",
    "currentHeight = driver.execute_script(\"return arguments[0].scrollHeight\", followers_popup)\n",
    "while True:\n",
    "    #followers_popup = driver.find_element_by_xpath(\"//div[contains(@class, 'isgrP')]\")\n",
    "    driver.execute_script(\"arguments[0].scrollTop = arguments[1]\", followers_popup, currentHeight)\n",
    "    time.sleep(2)\n",
    "    newHeight = driver.execute_script(\"return arguments[0].scrollHeight\", followers_popup)\n",
    "    if(newHeight == currentHeight):\n",
    "        break\n",
    "    currentHeight = newHeight\n",
    "name_2 = driver.find_elements_by_xpath(\"//a[contains(@class, 'FPmhX')]\")\n",
    "d = {} #Making a dictionary to make the search a lot easier\n",
    "for i in name_2:\n",
    "    d[i.text] = 1\n",
    "for i in followers:\n",
    "    if(i not in d):\n",
    "        print(i)\n",
    "closeButton = driver.find_elements_by_class_name(\"wpO6b\") \n",
    "closeButton[1].click() #Closing the followers pop-up"
   ]
  },
  {
   "cell_type": "markdown",
   "metadata": {},
   "source": [
    "7.\tCheck the story of ‘any-profile. Consider the following Scenarios and print error messages accordingly -\n",
    "1.\tIf You have already seen the story.\n",
    "2.\tOr The user has no story.\n",
    "3.\tOr View the story if not yet seen.\n"
   ]
  },
  {
   "cell_type": "code",
   "execution_count": 13,
   "metadata": {},
   "outputs": [
    {
     "name": "stdout",
     "output_type": "stream",
     "text": [
      "Searching a profile codingninjas\n",
      "The story is already viewed\n"
     ]
    }
   ],
   "source": [
    "#### Story Task #####\n",
    "#Searching coding ninjas \n",
    "visit(\"codingninjas\")\n",
    "time.sleep(3)\n",
    "wait = WebDriverWait(driver, 10)#Waiting for 10 seconds\n",
    "wait.until(EC.presence_of_element_located((By.CLASS_NAME, \"CfWVH\")))\n",
    "storyViewed = driver.find_element_by_class_name(\"CfWVH\")\n",
    "size = storyViewed.get_attribute(\"style\").split(\";\")[3].split(\":\")[1].strip() #getting the story image size width\n",
    "##### Checking the story Part #########\n",
    "wait = WebDriverWait(driver, 10)#Waiting for 10 seconds\n",
    "wait.until(EC.presence_of_element_located((By.CLASS_NAME, \"_6q-tv\")))\n",
    "storyButton = driver.find_elements_by_class_name(\"_6q-tv\")\n",
    "if(size == \"166px\" or size == \"87px\"): #As the width is this much if we have already seen the story\n",
    "    print(\"The story is already viewed\")\n",
    "else:\n",
    "    try:\n",
    "        wait = WebDriverWait(driver, 10)#Waiting for 10 seconds\n",
    "        wait.until(EC.presence_of_element_located((By.CLASS_NAME, \"_6q-tv\")))\n",
    "        storyButton = driver.find_elements_by_class_name(\"_6q-tv\")\n",
    "        presence = storyButton[0].click() #Clicking the story image\n",
    "        wait = WebDriverWait(driver, 10)#Waiting for 10 seconds\n",
    "        wait.until(EC.presence_of_element_located((By.CLASS_NAME, \"B20bj\")))\n",
    "        storyPresence = driver.find_element_by_class_name(\"B20bj\")\n",
    "        print(\"Story Viewed Successfully\")\n",
    "        ## If story doesn't exixt\n",
    "    except (NoSuchElementException, TimeoutException):\n",
    "        print(\"No story present for this profile\")\n",
    "    "
   ]
  }
 ],
 "metadata": {
  "kernelspec": {
   "display_name": "Python 3",
   "language": "python",
   "name": "python3"
  },
  "language_info": {
   "codemirror_mode": {
    "name": "ipython",
    "version": 3
   },
   "file_extension": ".py",
   "mimetype": "text/x-python",
   "name": "python",
   "nbconvert_exporter": "python",
   "pygments_lexer": "ipython3",
   "version": "3.7.4"
  }
 },
 "nbformat": 4,
 "nbformat_minor": 2
}
